{
 "cells": [
  {
   "cell_type": "code",
   "execution_count": 1,
   "id": "63eb1dc6-357a-40d5-b810-35b6fb526094",
   "metadata": {},
   "outputs": [],
   "source": [
    "import numpy as np\n",
    "import pandas as pd\n",
    "import matplotlib.pyplot as plt"
   ]
  },
  {
   "cell_type": "code",
   "execution_count": 3,
   "id": "b0169ad7-3923-45f2-bc59-711dfb000a85",
   "metadata": {},
   "outputs": [
    {
     "name": "stdout",
     "output_type": "stream",
     "text": [
      "   Country   Age   Salary Purchased\n",
      "0   France  44.0  72000.0        No\n",
      "1    Spain  27.0  48000.0       Yes\n",
      "2  Germany  30.0  54000.0        No\n",
      "3    Spain  38.0  61000.0        No\n",
      "4  Germany  40.0      NaN       Yes\n",
      "5   France  35.0  58000.0       Yes\n",
      "6    Spain   NaN  52000.0        No\n",
      "7   France  48.0  79000.0       Yes\n",
      "8  Germany  50.0  83000.0        No\n",
      "9   France  37.0  67000.0       Yes\n",
      "<class 'pandas.core.frame.DataFrame'>\n"
     ]
    }
   ],
   "source": [
    "dataset = pd.read_csv(\"Data.csv\")\n",
    "print(dataset)\n",
    "print(type(dataset))"
   ]
  },
  {
   "cell_type": "code",
   "execution_count": 5,
   "id": "f4ad76fe-f025-45a2-8bf6-3c3e7d9b7741",
   "metadata": {},
   "outputs": [
    {
     "name": "stdout",
     "output_type": "stream",
     "text": [
      "[['France' 44.0 72000.0 'No']\n",
      " ['Spain' 27.0 48000.0 'Yes']\n",
      " ['Germany' 30.0 54000.0 'No']\n",
      " ['Spain' 38.0 61000.0 'No']\n",
      " ['Germany' 40.0 nan 'Yes']\n",
      " ['France' 35.0 58000.0 'Yes']\n",
      " ['Spain' nan 52000.0 'No']\n",
      " ['France' 48.0 79000.0 'Yes']\n",
      " ['Germany' 50.0 83000.0 'No']\n",
      " ['France' 37.0 67000.0 'Yes']]\n",
      "<class 'numpy.ndarray'>\n"
     ]
    }
   ],
   "source": [
    "print(dataset.values)\n",
    "print(type(dataset.values))"
   ]
  },
  {
   "cell_type": "code",
   "execution_count": 7,
   "id": "34c450e0-b917-4f17-b801-a5389a66eeec",
   "metadata": {},
   "outputs": [
    {
     "name": "stdout",
     "output_type": "stream",
     "text": [
      "['France' 44.0 72000.0 'No']\n"
     ]
    }
   ],
   "source": [
    "print(dataset.values[0])"
   ]
  },
  {
   "cell_type": "code",
   "execution_count": 9,
   "id": "fefab563-52f4-4ac8-af77-be1f70010010",
   "metadata": {},
   "outputs": [
    {
     "name": "stdout",
     "output_type": "stream",
     "text": [
      "2\n"
     ]
    }
   ],
   "source": [
    "print(dataset.ndim)"
   ]
  },
  {
   "cell_type": "code",
   "execution_count": 11,
   "id": "27e82793-4b18-4c27-a325-ec36a9d8fcf9",
   "metadata": {},
   "outputs": [
    {
     "name": "stdout",
     "output_type": "stream",
     "text": [
      "40\n"
     ]
    }
   ],
   "source": [
    "print(dataset.size)"
   ]
  },
  {
   "cell_type": "code",
   "execution_count": 13,
   "id": "2bb60342-74a6-4f3e-9e3f-2922d4c1c0d4",
   "metadata": {},
   "outputs": [
    {
     "name": "stdout",
     "output_type": "stream",
     "text": [
      "(10, 4)\n",
      "(10, 4)\n",
      "Country       object\n",
      "Age          float64\n",
      "Salary       float64\n",
      "Purchased     object\n",
      "dtype: object\n"
     ]
    }
   ],
   "source": [
    "print(dataset.shape)\n",
    "print(dataset.values.shape)\n",
    "print(dataset.dtypes)"
   ]
  },
  {
   "cell_type": "code",
   "execution_count": 15,
   "id": "0509dcd3-249b-4e99-a39c-e27edafbb04b",
   "metadata": {},
   "outputs": [
    {
     "name": "stdout",
     "output_type": "stream",
     "text": [
      "[['France' 44.0 72000.0 'No']\n",
      " ['Spain' 27.0 48000.0 'Yes']\n",
      " ['Germany' 30.0 54000.0 'No']\n",
      " ['Spain' 38.0 61000.0 'No']\n",
      " ['Germany' 40.0 nan 'Yes']\n",
      " ['France' 35.0 58000.0 'Yes']\n",
      " ['Spain' nan 52000.0 'No']\n",
      " ['France' 48.0 79000.0 'Yes']\n",
      " ['Germany' 50.0 83000.0 'No']\n",
      " ['France' 37.0 67000.0 'Yes']]\n",
      "<class 'numpy.ndarray'>\n"
     ]
    }
   ],
   "source": [
    "print(dataset.values)\n",
    "print(type(dataset.values))"
   ]
  },
  {
   "cell_type": "code",
   "execution_count": 17,
   "id": "e6477378-f14d-42d0-a5a1-5882579d6ddc",
   "metadata": {},
   "outputs": [
    {
     "name": "stdout",
     "output_type": "stream",
     "text": [
      "['France' 44.0 72000.0 'No']\n"
     ]
    }
   ],
   "source": [
    "print(dataset.values[0])"
   ]
  },
  {
   "cell_type": "code",
   "execution_count": 19,
   "id": "bd70b01a-76bb-42e8-b103-a9e699d8b72e",
   "metadata": {},
   "outputs": [
    {
     "name": "stdout",
     "output_type": "stream",
     "text": [
      "['France' 44.0 72000.0 'No']\n",
      "France\n",
      "France\n"
     ]
    }
   ],
   "source": [
    "print(dataset.values[0])\n",
    "print(dataset.values[0][0])\n",
    "print(dataset.values[0,0])"
   ]
  },
  {
   "cell_type": "code",
   "execution_count": 21,
   "id": "8991d3ab-59f0-4569-b2c8-f8c2446ee4b0",
   "metadata": {},
   "outputs": [
    {
     "name": "stdout",
     "output_type": "stream",
     "text": [
      "[['France' 44.0 72000.0 'No']\n",
      " ['Spain' 27.0 48000.0 'Yes']]\n",
      "[['France' 44.0 72000.0 'No']\n",
      " ['Spain' 27.0 48000.0 'Yes']]\n"
     ]
    }
   ],
   "source": [
    "print(dataset.values[0:2])\n",
    "print(dataset.values[:2])"
   ]
  },
  {
   "cell_type": "code",
   "execution_count": 23,
   "id": "bcb42936-300d-4885-839d-b3dcf5ef288d",
   "metadata": {},
   "outputs": [
    {
     "name": "stdout",
     "output_type": "stream",
     "text": [
      "[72000.0 48000.0 54000.0 61000.0 nan 58000.0 52000.0 79000.0 83000.0\n",
      " 67000.0]\n"
     ]
    }
   ],
   "source": [
    "print(dataset.values[:,2])"
   ]
  },
  {
   "cell_type": "code",
   "execution_count": 25,
   "id": "6e951f73-fcdd-4695-8e0b-268a5f6ff8a9",
   "metadata": {},
   "outputs": [
    {
     "name": "stdout",
     "output_type": "stream",
     "text": [
      "[44.0 27.0 30.0 38.0 40.0 35.0 nan 48.0 50.0 37.0]\n"
     ]
    }
   ],
   "source": [
    "print(dataset.values[:,1])"
   ]
  },
  {
   "cell_type": "code",
   "execution_count": 27,
   "id": "0f3dd476-56cc-4109-9196-ea73c3e4f19a",
   "metadata": {},
   "outputs": [
    {
     "name": "stdout",
     "output_type": "stream",
     "text": [
      "[['France' 44.0 72000.0 'No']\n",
      " ['Germany' 30.0 54000.0 'No']\n",
      " ['Germany' 40.0 nan 'Yes']\n",
      " ['Spain' nan 52000.0 'No']\n",
      " ['Germany' 50.0 83000.0 'No']]\n"
     ]
    }
   ],
   "source": [
    "print(dataset.values[0::2])"
   ]
  },
  {
   "cell_type": "code",
   "execution_count": 29,
   "id": "97814e35-e846-484f-979f-afac529702df",
   "metadata": {},
   "outputs": [
    {
     "name": "stdout",
     "output_type": "stream",
     "text": [
      "Country       France\n",
      "Age             44.0\n",
      "Salary       72000.0\n",
      "Purchased         No\n",
      "Name: 0, dtype: object\n"
     ]
    }
   ],
   "source": [
    "print(dataset.iloc[0])"
   ]
  },
  {
   "cell_type": "code",
   "execution_count": 49,
   "id": "fab888d4-be09-4fbe-8ae5-bd001a88024d",
   "metadata": {},
   "outputs": [
    {
     "name": "stdout",
     "output_type": "stream",
     "text": [
      "[['France' 44.0 72000.0]\n",
      " ['Spain' 27.0 48000.0]\n",
      " ['Germany' 30.0 54000.0]\n",
      " ['Spain' 38.0 61000.0]\n",
      " ['Germany' 40.0 nan]\n",
      " ['France' 35.0 58000.0]\n",
      " ['Spain' nan 52000.0]\n",
      " ['France' 48.0 79000.0]\n",
      " ['Germany' 50.0 83000.0]\n",
      " ['France' 37.0 67000.0]]\n",
      "['No' 'Yes' 'No' 'No' 'Yes' 'Yes' 'No' 'Yes' 'No' 'Yes']\n"
     ]
    }
   ],
   "source": [
    "X=dataset.iloc[:,:-1].values\n",
    "print(X)\n",
    "y=dataset.iloc[:,-1].values\n",
    "print(y)"
   ]
  },
  {
   "cell_type": "code",
   "execution_count": 51,
   "id": "fef1e294-03cd-4b6b-aa15-b02b3850cc8b",
   "metadata": {},
   "outputs": [
    {
     "name": "stdout",
     "output_type": "stream",
     "text": [
      "[['France' 44.0 72000.0]\n",
      " ['Spain' 27.0 48000.0]\n",
      " ['Germany' 30.0 54000.0]\n",
      " ['Spain' 38.0 61000.0]\n",
      " ['Germany' 40.0 63777.77777777778]\n",
      " ['France' 35.0 58000.0]\n",
      " ['Spain' 38.77777777777778 52000.0]\n",
      " ['France' 48.0 79000.0]\n",
      " ['Germany' 50.0 83000.0]\n",
      " ['France' 37.0 67000.0]]\n"
     ]
    }
   ],
   "source": [
    "from sklearn.impute import SimpleImputer\n",
    "imputer = SimpleImputer(missing_values=np.nan, strategy='mean')\n",
    "imputer.fit(X[:,1:])\n",
    "X[:,1:]=imputer.transform(X[:,1:])\n",
    "print(X)"
   ]
  },
  {
   "cell_type": "code",
   "execution_count": 31,
   "id": "7cd2c75c-5934-44c2-a8ea-0f4f030a4db2",
   "metadata": {},
   "outputs": [],
   "source": [
    "from sklearn.compose import ColumnTransformer\n",
    "from sklearn.preprocessing import OneHotEncoder"
   ]
  },
  {
   "cell_type": "code",
   "execution_count": 53,
   "id": "f582f330-f47b-41c1-b5c6-4550f3d17662",
   "metadata": {},
   "outputs": [],
   "source": [
    "ct=ColumnTransformer(transformers=[('encoder',OneHotEncoder(),[0])],remainder='passthrough')\n",
    "x=np.array(ct.fit_transform(X))"
   ]
  },
  {
   "cell_type": "code",
   "execution_count": 37,
   "id": "d33cb7b3-f30e-4402-b54d-fc7de0190ef6",
   "metadata": {},
   "outputs": [],
   "source": [
    "from sklearn.preprocessing import LabelEncoder"
   ]
  },
  {
   "cell_type": "code",
   "execution_count": 45,
   "id": "f515dc73-6e66-4c82-b69c-c65cb9d36938",
   "metadata": {},
   "outputs": [
    {
     "name": "stdout",
     "output_type": "stream",
     "text": [
      "[0 1 0 0 1 1 0 1 0 1]\n"
     ]
    }
   ],
   "source": [
    "le=LabelEncoder()\n",
    "y=dataset.iloc[:,-1].values\n",
    "y = le.fit_transform(y)\n",
    "print(y)"
   ]
  },
  {
   "cell_type": "code",
   "execution_count": 55,
   "id": "7cb1274a-ad38-4996-b7ff-580b6fb2e411",
   "metadata": {},
   "outputs": [
    {
     "name": "stdout",
     "output_type": "stream",
     "text": [
      "[['France' 44.0 72000.0]\n",
      " ['Spain' 27.0 48000.0]\n",
      " ['Germany' 30.0 54000.0]\n",
      " ['Spain' 38.0 61000.0]\n",
      " ['Germany' 40.0 63777.77777777778]\n",
      " ['France' 35.0 58000.0]\n",
      " ['Spain' 38.77777777777778 52000.0]\n",
      " ['France' 48.0 79000.0]\n",
      " ['Germany' 50.0 83000.0]\n",
      " ['France' 37.0 67000.0]]\n",
      "['No' 'Yes' 'No' 'No' 'Yes' 'Yes' 'No' 'Yes' 'No' 'Yes']\n"
     ]
    }
   ],
   "source": [
    "print(X)\n",
    "print(y)"
   ]
  },
  {
   "cell_type": "code",
   "execution_count": 57,
   "id": "a82d0caa-9674-4cfe-9390-e666b3ede4c5",
   "metadata": {},
   "outputs": [],
   "source": [
    "from sklearn.model_selection import train_test_split\n",
    "X_ogren,X_test,y_ogren,y_test= train_test_split(X,y,test_size=0.2)"
   ]
  },
  {
   "cell_type": "code",
   "execution_count": 59,
   "id": "1f3b92a7-d101-4a4b-9ebe-97eb81b6fafe",
   "metadata": {},
   "outputs": [
    {
     "name": "stdout",
     "output_type": "stream",
     "text": [
      "[['Spain' 38.0 61000.0]\n",
      " ['Spain' 38.77777777777778 52000.0]\n",
      " ['Germany' 40.0 63777.77777777778]\n",
      " ['Germany' 30.0 54000.0]\n",
      " ['France' 35.0 58000.0]\n",
      " ['France' 48.0 79000.0]\n",
      " ['France' 37.0 67000.0]\n",
      " ['Germany' 50.0 83000.0]]\n"
     ]
    }
   ],
   "source": [
    "print(X_ogren)"
   ]
  },
  {
   "cell_type": "code",
   "execution_count": 61,
   "id": "d90882a3-51f5-415e-b0fe-3d207ec8e371",
   "metadata": {},
   "outputs": [
    {
     "name": "stdout",
     "output_type": "stream",
     "text": [
      "[['Spain' 27.0 48000.0]\n",
      " ['France' 44.0 72000.0]]\n"
     ]
    }
   ],
   "source": [
    "print(X_test)"
   ]
  },
  {
   "cell_type": "code",
   "execution_count": 63,
   "id": "65ac5dff-326b-454e-b765-c1139fe604bb",
   "metadata": {},
   "outputs": [
    {
     "name": "stdout",
     "output_type": "stream",
     "text": [
      "['No' 'No' 'Yes' 'No' 'Yes' 'Yes' 'Yes' 'No']\n"
     ]
    }
   ],
   "source": [
    "print(y_ogren)"
   ]
  },
  {
   "cell_type": "code",
   "execution_count": 65,
   "id": "c78be1e2-5d72-47de-adf1-b70b55b66297",
   "metadata": {},
   "outputs": [
    {
     "name": "stdout",
     "output_type": "stream",
     "text": [
      "['Yes' 'No']\n"
     ]
    }
   ],
   "source": [
    "print(y_test)"
   ]
  },
  {
   "cell_type": "code",
   "execution_count": 69,
   "id": "d1eebb5a-53d3-46b0-a34d-a43e36b971db",
   "metadata": {},
   "outputs": [],
   "source": [
    "from sklearn.preprocessing import StandardScaler"
   ]
  },
  {
   "cell_type": "code",
   "execution_count": 71,
   "id": "f403d01a-5c20-46c7-86ec-e2779b3f052c",
   "metadata": {},
   "outputs": [],
   "source": [
    "scaler = StandardScaler()"
   ]
  },
  {
   "cell_type": "code",
   "execution_count": 79,
   "id": "d4907ee9-dbff-433d-a04e-9ff7f8c1ba13",
   "metadata": {},
   "outputs": [],
   "source": [
    "X_ogren[:,2:] = scaler.fit_transform(X_ogren[:,2:])\n",
    "X_test[:,2:]= scaler.transform(X_test[:,2:])\n",
    "\n"
   ]
  },
  {
   "cell_type": "code",
   "execution_count": 81,
   "id": "fe19a0de-cf0f-4f52-86ce-756477db9112",
   "metadata": {},
   "outputs": [
    {
     "name": "stdout",
     "output_type": "stream",
     "text": [
      "[[-0.3549248611730585 -0.3549248611730585 -0.3549248611730585]\n",
      " [-1.2131013911735877 -1.2131013911735877 -1.2131013911735877]\n",
      " [-0.09005556179017876 -0.09005556179017876 -0.09005556179017876]\n",
      " [-1.0223954956179147 -1.0223954956179147 -1.0223954956179147]\n",
      " [-0.6409837045065682 -0.6409837045065682 -0.6409837045065682]\n",
      " [1.361428198828 1.361428198828 1.361428198828]\n",
      " [0.21719282549396102 0.21719282549396102 0.21719282549396102]\n",
      " [1.7428399899393463 1.7428399899393463 1.7428399899393463]]\n",
      "[['Spain' 27.0 -1.594513182284934]\n",
      " ['France' 44.0 0.6939575643831438]]\n"
     ]
    }
   ],
   "source": [
    "print(X_ogren)\n",
    "print(X_test)"
   ]
  },
  {
   "cell_type": "code",
   "execution_count": null,
   "id": "5b1ef190-4ccb-4e8f-b451-37206e732d5c",
   "metadata": {},
   "outputs": [],
   "source": []
  }
 ],
 "metadata": {
  "kernelspec": {
   "display_name": "env",
   "language": "python",
   "name": "env"
  },
  "language_info": {
   "codemirror_mode": {
    "name": "ipython",
    "version": 3
   },
   "file_extension": ".py",
   "mimetype": "text/x-python",
   "name": "python",
   "nbconvert_exporter": "python",
   "pygments_lexer": "ipython3",
   "version": "3.11.9"
  }
 },
 "nbformat": 4,
 "nbformat_minor": 5
}
